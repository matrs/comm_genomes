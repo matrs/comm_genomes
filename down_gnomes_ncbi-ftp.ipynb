{
 "cells": [
  {
   "cell_type": "code",
   "execution_count": 1,
   "metadata": {},
   "outputs": [
    {
     "name": "stdout",
     "output_type": "stream",
     "text": [
      "total 313M\n",
      "-rw-r--r-- 1 mibu mibu 252M nov  3 18:24 \u001b[0m\u001b[00;32massembly_summary_genbank.txt\u001b[0m\n",
      "-rw-r--r-- 1 mibu mibu  61M nov  3 18:25 \u001b[00;32massembly_summary_refseq.txt\u001b[0m\n",
      "-rw-r--r-- 1 mibu mibu   72 nov  3 19:08 Untitled.ipynb\n"
     ]
    }
   ],
   "source": [
    "ls -ltrh"
   ]
  },
  {
   "cell_type": "code",
   "execution_count": 2,
   "metadata": {},
   "outputs": [
    {
     "name": "stdout",
     "output_type": "stream",
     "text": [
      "# conda environments:\n",
      "#\n",
      "base                  *  /home/mibu/miniconda3\n",
      "bif2020                  /home/mibu/miniconda3/envs/bif2020\n",
      "modeller                 /home/mibu/miniconda3/envs/modeller\n",
      "muta_ISBM                /home/mibu/miniconda3/envs/muta_ISBM\n",
      "py38                     /home/mibu/miniconda3/envs/py38\n",
      "rstudio                  /home/mibu/miniconda3/envs/rstudio\n",
      "salmon                   /home/mibu/miniconda3/envs/salmon\n",
      "torch                    /home/mibu/miniconda3/envs/torch\n",
      "\n"
     ]
    }
   ],
   "source": [
    "conda info --envs"
   ]
  },
  {
   "cell_type": "code",
   "execution_count": 3,
   "metadata": {},
   "outputs": [
    {
     "name": "stdout",
     "output_type": "stream",
     "text": [
      "(py38) "
     ]
    },
    {
     "ename": "",
     "evalue": "1",
     "output_type": "error",
     "traceback": []
    }
   ],
   "source": [
    "act py38"
   ]
  },
  {
   "cell_type": "markdown",
   "metadata": {},
   "source": [
    "## Useful info about the ncbi ftp\n",
    "https://www.ncbi.nlm.nih.gov/genome/doc/ftpfaq/\n",
    "\n",
    "### About the summary files:\n",
    "https://ftp.ncbi.nlm.nih.gov/genomes/README_assembly_summary.txt"
   ]
  },
  {
   "cell_type": "code",
   "execution_count": 4,
   "metadata": {},
   "outputs": [
    {
     "name": "stdout",
     "output_type": "stream",
     "text": [
      "#   See ftp://ftp.ncbi.nlm.nih.gov/genomes/README_assembly_summary.txt for a description of the columns in this file.$\n",
      "# assembly_accession^Ibioproject^Ibiosample^Iwgs_master^Irefseq_category^Itaxid^Ispecies_taxid^Iorganism_name^Iinfraspecific_name^Iisolate^Iversion_status^Iassembly_level^Irelease_type^Igenome_rep^Iseq_rel_date^Iasm_name^Isubmitter^Igbrs_paired_asm^Ipaired_asm_comp^Iftp_path^Iexcluded_from_refseq^Irelation_to_type_material$\n",
      "(py38) "
     ]
    },
    {
     "ename": "",
     "evalue": "1",
     "output_type": "error",
     "traceback": []
    }
   ],
   "source": [
    "head -n2 assembly_summary_genbank.txt | cat -A "
   ]
  },
  {
   "cell_type": "markdown",
   "metadata": {},
   "source": [
    "Number of columns?"
   ]
  },
  {
   "cell_type": "code",
   "execution_count": 34,
   "metadata": {},
   "outputs": [
    {
     "name": "stdout",
     "output_type": "stream",
     "text": [
      "22\n",
      "(py38) "
     ]
    },
    {
     "ename": "",
     "evalue": "1",
     "output_type": "error",
     "traceback": []
    }
   ],
   "source": [
    "awk -F'\\t' '$0!~/^#/ {print NF; exit}' assembly_summary_refseq.txt "
   ]
  },
  {
   "cell_type": "markdown",
   "metadata": {},
   "source": [
    "## How many **akkermansia** genomes are in *genbank*?"
   ]
  },
  {
   "cell_type": "code",
   "execution_count": 5,
   "metadata": {},
   "outputs": [
    {
     "name": "stdout",
     "output_type": "stream",
     "text": [
      "363\n",
      "(py38) "
     ]
    },
    {
     "ename": "",
     "evalue": "1",
     "output_type": "error",
     "traceback": []
    }
   ],
   "source": [
    "awk -F'\\t' '{IGNORECASE=1; if($8~/akkermansia/) print $8}' assembly_summary_genbank.txt | wc -l"
   ]
  },
  {
   "cell_type": "code",
   "execution_count": 11,
   "metadata": {},
   "outputs": [
    {
     "name": "stdout",
     "output_type": "stream",
     "text": [
      "    361 na\n",
      "      2 representative genome\n",
      "(py38) "
     ]
    },
    {
     "ename": "",
     "evalue": "1",
     "output_type": "error",
     "traceback": []
    }
   ],
   "source": [
    "awk -F'\\t' '{IGNORECASE=1; if($8~/akkermansia/) print $5}' assembly_summary_genbank.txt | sort  | uniq -c"
   ]
  },
  {
   "cell_type": "markdown",
   "metadata": {},
   "source": [
    "## Which and how many occurrences of each `refseq_category` are in *genbank*?\n"
   ]
  },
  {
   "cell_type": "code",
   "execution_count": 7,
   "metadata": {},
   "outputs": [
    {
     "name": "stdout",
     "output_type": "stream",
     "text": [
      " 835465 na\n",
      "     69 reference genome\n",
      "  18068 representative genome\n",
      "(py38) "
     ]
    },
    {
     "ename": "",
     "evalue": "1",
     "output_type": "error",
     "traceback": []
    }
   ],
   "source": [
    "awk -F'\\t' '$0!~/^#/ {print $5}' assembly_summary_genbank.txt | sort | uniq -c\n"
   ]
  },
  {
   "cell_type": "markdown",
   "metadata": {},
   "source": [
    "# Representative genomes from refseq and genbank (they're expected to be the same)"
   ]
  },
  {
   "cell_type": "code",
   "execution_count": 27,
   "metadata": {},
   "outputs": [
    {
     "name": "stdout",
     "output_type": "stream",
     "text": [
      "genebank:\n",
      "(py38) GCA_002201495.1 PRJNA289613 SAMN03854119 representative genome Akkermansia muciniphila\n",
      "\n",
      "\n",
      "GCA_900097105.1 PRJEB15121 SAMEA4378782 representative genome Akkermansia glycaniphila\n",
      "\n",
      "\n",
      "(py38) (py38) refseq:\n",
      "(py38) GCF_002201495.1 PRJNA224116 SAMN03854119 representative genome Akkermansia muciniphila\n",
      "\n",
      "\n",
      "GCF_900097105.1 PRJNA224116 SAMEA4378782 representative genome Akkermansia glycaniphila\n",
      "\n",
      "\n",
      "(py38) "
     ]
    },
    {
     "ename": "",
     "evalue": "1",
     "output_type": "error",
     "traceback": []
    }
   ],
   "source": [
    "echo  \"genebank:\"\n",
    "awk -F'\\t' '{IGNORECASE=1; if($8~/akkermansia/ && $5==\"representative genome\") print $1, $2,$3,$5,$8\"\\n\\n\"}' \\\n",
    "assembly_summary_genbank.txt \n",
    "\n",
    "echo  \"refseq:\"\n",
    "awk -F'\\t' '{IGNORECASE=1; if($8~/akkermansia/ && $5==\"representative genome\") print $1, $2,$3,$5,$8\"\\n\\n\"}' \\\n",
    "assembly_summary_refseq.txt "
   ]
  },
  {
   "cell_type": "markdown",
   "metadata": {},
   "source": [
    "### How many distinct `refseq_categories` for *akkermansia*?"
   ]
  },
  {
   "cell_type": "code",
   "execution_count": 30,
   "metadata": {},
   "outputs": [
    {
     "name": "stdout",
     "output_type": "stream",
     "text": [
      "    201 na\n",
      "      2 representative genome\n",
      "(py38)     361 na\n",
      "      2 representative genome\n",
      "(py38) "
     ]
    },
    {
     "ename": "",
     "evalue": "1",
     "output_type": "error",
     "traceback": []
    }
   ],
   "source": [
    "awk -F'\\t' '{IGNORECASE=1; if($8~/akkermansia/) print $5}' assembly_summary_refseq.txt | sort  | uniq -c\n",
    "awk -F'\\t' '{IGNORECASE=1; if($8~/akkermansia/) print $5}' assembly_summary_genbank.txt | sort  | uniq -c"
   ]
  },
  {
   "cell_type": "markdown",
   "metadata": {},
   "source": [
    "### How many distinct `assembly_level` for *akkermansia*?"
   ]
  },
  {
   "cell_type": "code",
   "execution_count": 114,
   "metadata": {},
   "outputs": [
    {
     "name": "stdout",
     "output_type": "stream",
     "text": [
      "      2 Chromosome\n",
      "     29 Complete Genome\n",
      "     40 Contig\n",
      "    132 Scaffold\n",
      "(py38)       2 Chromosome\n",
      "     29 Complete Genome\n",
      "    145 Contig\n",
      "    187 Scaffold\n",
      "(py38) "
     ]
    },
    {
     "ename": "",
     "evalue": "1",
     "output_type": "error",
     "traceback": []
    }
   ],
   "source": [
    "awk -F'\\t' '{IGNORECASE=1; if($8~/akkermansia/) print $12}' assembly_summary_refseq.txt |sort |uniq -c\n",
    "awk -F'\\t' '{IGNORECASE=1; if($8~/akkermansia/) print $12}' assembly_summary_genbank.txt |sort |uniq -c"
   ]
  },
  {
   "cell_type": "code",
   "execution_count": 29,
   "metadata": {},
   "outputs": [
    {
     "name": "stdout",
     "output_type": "stream",
     "text": [
      "GCF_000020225.1\tPRJNA224116\tSAMN00138213\t\tna\t349741\t239935\tAkkermansia muciniphila ATCC BAA-835\tstrain=ATCC BAA-835\t\tlatest\tComplete Genome\tMajor\tFull\t2008/05/05\tASM2022v1\tUS DOE Joint Genome Institute (JGI-PGF)\tGCA_000020225.1\tidentical\tftp://ftp.ncbi.nlm.nih.gov/genomes/all/GCF/000/020/225/GCF_000020225.1_ASM2022v1\t\tassembly from type material\n",
      "GCF_000723745.2\tPRJNA224116\tSAMEA3139045\tCCDQ000000000.1\tna\t239935\t239935\tAkkermansia muciniphila\t\tUrmite\tlatest\tScaffold\tMajor\tFull\t2014/05/16\tPRJEB6027_Urmite\tURMITE\tGCA_000723745.2\tidentical\tftp://ftp.ncbi.nlm.nih.gov/genomes/all/GCF/000/723/745/GCF_000723745.2_PRJEB6027_Urmite\t\t\n",
      "GCF_001578645.1\tPRJNA224116\tSAMN03956217\tLTDG00000000.1\tna\t1574264\t1574264\tAkkermansia sp. KLE1797\tstrain=KLE1797\t\tlatest\tScaffold\tMajor\tFull\t2016/03/02\tASM157864v1\tThe Genome Institute at Washington University\tGCA_001578645.1\tidentical\tftp://ftp.ncbi.nlm.nih.gov/genomes/all/GCF/001/578/645/GCF_001578645.1_ASM157864v1\t\t\n",
      "(py38) "
     ]
    },
    {
     "ename": "",
     "evalue": "1",
     "output_type": "error",
     "traceback": []
    }
   ],
   "source": [
    "awk -F'\\t' '{IGNORECASE=1; if($8~/akkermansia/) print $0}' assembly_summary_refseq.txt | head -n 3"
   ]
  },
  {
   "cell_type": "code",
   "execution_count": 21,
   "metadata": {},
   "outputs": [
    {
     "name": "stdout",
     "output_type": "stream",
     "text": [
      "GCF_002201495.1\tPRJNA224116\tSAMN03854119\t\trepresentative genome\t239935\t239935\tAkkermansia muciniphila\tstrain=YL44\t\tlatest\tChromosome\tMajor\tFull\t2017/06/20\tASM220149v1\tMax von Pettenkofer-Institut\tGCA_002201495.1\tidentical\tftp://ftp.ncbi.nlm.nih.gov/genomes/all/GCF/002/201/495/GCF_002201495.1_ASM220149v1\t\t\n",
      "\n",
      "\n",
      "GCF_900097105.1\tPRJNA224116\tSAMEA4378782\t\trepresentative genome\t1679444\t1679444\tAkkermansia glycaniphila\t\tAPytT\tlatest\tComplete Genome\tMajor\tFull\t2016/10/27\tWK001\tWAGENINGEN UNIVERSITY, LABORATORY OF SYSTEMS AND SYNTHETIC BIOLOGY.\tGCA_900097105.1\tidentical\tftp://ftp.ncbi.nlm.nih.gov/genomes/all/GCF/900/097/105/GCF_900097105.1_WK001\t\t\n",
      "\n",
      "\n",
      "(py38) "
     ]
    },
    {
     "ename": "",
     "evalue": "1",
     "output_type": "error",
     "traceback": []
    }
   ],
   "source": [
    "awk -F'\\t' '{IGNORECASE=1; if($8~/akkermansia/ && $5==\"representative genome\") print $0\"\\n\\n\"}' \\\n",
    "assembly_summary_refseq.txt "
   ]
  },
  {
   "cell_type": "code",
   "execution_count": 47,
   "metadata": {},
   "outputs": [
    {
     "name": "stdout",
     "output_type": "stream",
     "text": [
      "ftp://ftp.ncbi.nlm.nih.gov/genomes/all/GCA/002/201/495/GCA_002201495.1_ASM220149v1\n",
      "ftp://ftp.ncbi.nlm.nih.gov/genomes/all/GCA/900/097/105/GCA_900097105.1_WK001\n",
      "(py38) "
     ]
    },
    {
     "ename": "",
     "evalue": "1",
     "output_type": "error",
     "traceback": []
    }
   ],
   "source": [
    "awk -F \"\\t\" ' $0!~/^#/ {IGNORECASE=1; if($8~/akkermansia/ && $5==\"representative genome\") print $20}' \\\n",
    "assembly_summary_genbank.txt"
   ]
  },
  {
   "cell_type": "code",
   "execution_count": 83,
   "metadata": {},
   "outputs": [
    {
     "name": "stdout",
     "output_type": "stream",
     "text": [
      "(py38) (py38) ftp://ftp.ncbi.nlm.nih.gov/genomes/all/GCA/002/201/495/GCA_002201495.1_ASM220149v1 ftp://ftp.ncbi.nlm.nih.gov/genomes/all/GCA/900/097/105/GCA_900097105.1_WK001\n",
      "(py38) (py38) rsync --copy-links --times --verbose rsync://ftp.ncbi.nlm.nih.gov/genomes/all/GCA/002/201/495/GCA_002201495.1_ASM220149v1\n",
      "rsync --copy-links --times --verbose rsync://ftp.ncbi.nlm.nih.gov/genomes/all/GCA/900/097/105/GCA_900097105.1_WK001\n",
      "(py38) "
     ]
    },
    {
     "ename": "",
     "evalue": "1",
     "output_type": "error",
     "traceback": []
    }
   ],
   "source": [
    "dirs=($(awk -F \"\\t\" ' $0!~/^#/ {IGNORECASE=1; if($8~/akkermansia/ && $5==\"representative genome\") print $20}' \\\n",
    "assembly_summary_genbank.txt))\n",
    "\n",
    "echo ${dirs[*]}\n",
    "\n",
    "# for e in ${dirs[*]}; do  echo rsync --copy-links --times --verbose \"${e/ftp:/rsync:}\" ; done"
   ]
  },
  {
   "cell_type": "code",
   "execution_count": 115,
   "metadata": {},
   "outputs": [
    {
     "name": "stdout",
     "output_type": "stream",
     "text": [
      "(py38) (py38) ftp://ftp.ncbi.nlm.nih.gov/genomes/all/GCA/002/201/495/GCA_002201495.1_ASM220149v1\n",
      "ftp://ftp.ncbi.nlm.nih.gov/genomes/all/GCA/900/097/105/GCA_900097105.1_WK001\n",
      "(py38) "
     ]
    },
    {
     "ename": "",
     "evalue": "1",
     "output_type": "error",
     "traceback": []
    }
   ],
   "source": [
    "awk -F \"\\t\" ' $0!~/^#/ {IGNORECASE=1; if($8~/akkermansia/ && $5==\"representative genome\") print $20}' \\\n",
    "assembly_summary_genbank.txt > dirs_ref-genomes.list\n",
    "\n",
    "cat dirs_ref-genomes.list"
   ]
  },
  {
   "cell_type": "code",
   "execution_count": 93,
   "metadata": {},
   "outputs": [
    {
     "name": "stdout",
     "output_type": "stream",
     "text": [
      "(py38) (py38) ftp://ftp.ncbi.nlm.nih.gov/genomes/all/GCA/002/201/495/GCA_002201495.1_ASM220149v1/GCA_002201495.1_ASM220149v1_genomic.fna.gz\n",
      "ftp://ftp.ncbi.nlm.nih.gov/genomes/all/GCA/900/097/105/GCA_900097105.1_WK001/GCA_900097105.1_WK001_genomic.fna.gz\n",
      "(py38) "
     ]
    },
    {
     "ename": "",
     "evalue": "1",
     "output_type": "error",
     "traceback": []
    }
   ],
   "source": [
    "awk 'BEGIN{FS=OFS=\"/\";filesuffix=\"genomic.fna.gz\"}{ftpdir=$0;asm=$10;file=asm\"_\"filesuffix;print ftpdir,file}' \\\n",
    "dirs_ref-genomes.list > files_ref-genomes.list\n",
    "\n",
    "cat files_ref-genomes.list"
   ]
  },
  {
   "cell_type": "code",
   "execution_count": 110,
   "metadata": {},
   "outputs": [
    {
     "name": "stdout",
     "output_type": "stream",
     "text": [
      "\n",
      "Warning Notice!\n",
      "\n",
      "You are accessing a U.S. Government information system which includes this\n",
      "computer, network, and all attached devices. This system is for\n",
      "Government-authorized use only. Unauthorized use of this system may result in\n",
      "disciplinary action and civil and criminal penalties. System users have no\n",
      "expectation of privacy regarding any communications or data processed by this\n",
      "system. At any time, the government may monitor, record, or seize any\n",
      "communication or data transiting or stored on this information system.\n",
      "\n",
      "-------------------------------------------------------------------------------\n",
      "\n",
      "Welcome to the NCBI rsync server.\n",
      "\n",
      "\n",
      "GCA_002201495.1_ASM220149v1_genomic.fna.gz\n",
      "\n",
      "sent 5,437 bytes  received 3,723 bytes  3,664.00 bytes/sec\n",
      "total size is 804,667  speedup is 87.85\n",
      "\n",
      "Warning Notice!\n",
      "\n",
      "You are accessing a U.S. Government information system which includes this\n",
      "computer, network, and all attached devices. This system is for\n",
      "Government-authorized use only. Unauthorized use of this system may result in\n",
      "disciplinary action and civil and criminal penalties. System users have no\n",
      "expectation of privacy regarding any communications or data processed by this\n",
      "system. At any time, the government may monitor, record, or seize any\n",
      "communication or data transiting or stored on this information system.\n",
      "\n",
      "-------------------------------------------------------------------------------\n",
      "\n",
      "Welcome to the NCBI rsync server.\n",
      "\n",
      "\n",
      "GCA_900097105.1_WK001_genomic.fna.gz\n",
      "\n",
      "sent 43 bytes  received 896,410 bytes  256,129.43 bytes/sec\n",
      "total size is 896,082  speedup is 1.00\n",
      "(py38) "
     ]
    },
    {
     "ename": "",
     "evalue": "1",
     "output_type": "error",
     "traceback": []
    }
   ],
   "source": [
    "while IFS= read -r link\n",
    "    do   \n",
    "        rsync --copy-links --times --verbose  \"${link/ftp:/rsync:}\"  .\n",
    "    done < files_ref-genomes.list"
   ]
  },
  {
   "cell_type": "markdown",
   "metadata": {},
   "source": [
    "## Downloading in parallel (`-j n`) with `gnu parallel`:"
   ]
  },
  {
   "cell_type": "code",
   "execution_count": 113,
   "metadata": {},
   "outputs": [
    {
     "name": "stdout",
     "output_type": "stream",
     "text": [
      "\n",
      "Warning Notice!\n",
      "\n",
      "You are accessing a U.S. Government information system which includes this\n",
      "computer, network, and all attached devices. This system is for\n",
      "Government-authorized use only. Unauthorized use of this system may result in\n",
      "disciplinary action and civil and criminal penalties. System users have no\n",
      "expectation of privacy regarding any communications or data processed by this\n",
      "system. At any time, the government may monitor, record, or seize any\n",
      "communication or data transiting or stored on this information system.\n",
      "\n",
      "-------------------------------------------------------------------------------\n",
      "\n",
      "Welcome to the NCBI rsync server.\n",
      "\n",
      "\n",
      "\n",
      "sent 24 bytes  received 84 bytes  43.20 bytes/sec\n",
      "total size is 804,667  speedup is 7,450.62\n",
      "\n",
      "Warning Notice!\n",
      "\n",
      "You are accessing a U.S. Government information system which includes this\n",
      "computer, network, and all attached devices. This system is for\n",
      "Government-authorized use only. Unauthorized use of this system may result in\n",
      "disciplinary action and civil and criminal penalties. System users have no\n",
      "expectation of privacy regarding any communications or data processed by this\n",
      "system. At any time, the government may monitor, record, or seize any\n",
      "communication or data transiting or stored on this information system.\n",
      "\n",
      "-------------------------------------------------------------------------------\n",
      "\n",
      "Welcome to the NCBI rsync server.\n",
      "\n",
      "\n",
      "\n",
      "sent 24 bytes  received 73 bytes  38.80 bytes/sec\n",
      "total size is 896,082  speedup is 9,237.96\n",
      "(py38) "
     ]
    },
    {
     "ename": "",
     "evalue": "1",
     "output_type": "error",
     "traceback": []
    }
   ],
   "source": [
    "parallel --plus  -j 2 \"rsync --copy-links --times --verbose {1/ftp:/rsync:} .\" :::: files_ref-genomes.list "
   ]
  },
  {
   "cell_type": "code",
   "execution_count": 126,
   "metadata": {},
   "outputs": [
    {
     "name": "stdout",
     "output_type": "stream",
     "text": [
      "SAMN00138213\n",
      "SAMN04621615\n",
      "SAMN07978491\n",
      "SAMN07980909\n",
      "SAMN07980958\n",
      "SAMN07980963\n",
      "SAMN08329147\n",
      "SAMN08329199\n",
      "SAMN08334970\n",
      "SAMN08334973\n",
      "SAMN08334978\n",
      "SAMN08334979\n",
      "SAMN08334983\n",
      "SAMN08334976\n",
      "SAMN08334977\n",
      "SAMN08328879\n",
      "SAMN08329008\n",
      "SAMN08334972\n",
      "SAMN08334975\n",
      "SAMN08334981\n",
      "SAMN08334982\n",
      "SAMN10186677\n",
      "SAMN10963682\n",
      "SAMN12556229\n",
      "SAMD00192834\n",
      "SAMN13925612\n",
      "SAMN15393864\n",
      "SAMEA4378782\n",
      "SAMEA5851959\n",
      "(py38) SAMN00138213\n",
      "SAMN04621615\n",
      "SAMN07978491\n",
      "SAMN07980909\n",
      "SAMN07980958\n",
      "SAMN07980963\n",
      "SAMN08329147\n",
      "SAMN08329199\n",
      "SAMN08334970\n",
      "SAMN08334973\n",
      "SAMN08334978\n",
      "SAMN08334979\n",
      "SAMN08334983\n",
      "SAMN08334976\n",
      "SAMN08334977\n",
      "SAMN08328879\n",
      "SAMN08329008\n",
      "SAMN08334972\n",
      "SAMN08334975\n",
      "SAMN08334981\n",
      "SAMN08334982\n",
      "SAMN10186677\n",
      "SAMN10963682\n",
      "SAMN12556229\n",
      "SAMD00192834\n",
      "SAMN13925612\n",
      "SAMN15393864\n",
      "SAMEA4378782\n",
      "SAMEA5851959\n",
      "(py38) "
     ]
    },
    {
     "ename": "",
     "evalue": "1",
     "output_type": "error",
     "traceback": []
    }
   ],
   "source": [
    "awk -F'\\t' '{IGNORECASE=1; if($8~/akkermansia/ && $12~/complete genome/) print $3}' assembly_summary_refseq.txt\n",
    "awk -F'\\t' '{IGNORECASE=1; if($8~/akkermansia/ && $12~/complete genome/) print $3}' assembly_summary_genbank.txt"
   ]
  },
  {
   "cell_type": "code",
   "execution_count": 127,
   "metadata": {},
   "outputs": [
    {
     "name": "stdout",
     "output_type": "stream",
     "text": [
      "(py38) (py38) "
     ]
    },
    {
     "ename": "",
     "evalue": "1",
     "output_type": "error",
     "traceback": []
    }
   ],
   "source": [
    "awk -F'\\t' '{IGNORECASE=1; if($8~/akkermansia/ && $12~/complete genome/) print $3}' \\\n",
    "            assembly_summary_refseq.txt > assembly_sam_refseq.txt\n",
    "awk -F'\\t' '{IGNORECASE=1; if($8~/akkermansia/ && $12~/complete genome/) print $3}' \\\n",
    "assembly_summary_genbank.txt >  assembly_sam_gen.txt"
   ]
  },
  {
   "cell_type": "code",
   "execution_count": 122,
   "metadata": {},
   "outputs": [
    {
     "name": "stdout",
     "output_type": "stream",
     "text": [
      "total 316M\n",
      "-r--r--r-- 1 mibu mibu 876K oct 28  2016 \u001b[0m\u001b[01;31mGCA_900097105.1_WK001_genomic.fna.gz\u001b[0m\n",
      "-r--r--r-- 1 mibu mibu 786K jul 20  2017 \u001b[01;31mGCA_002201495.1_ASM220149v1_genomic.fna.gz\u001b[0m\n",
      "-rw-r--r-- 1 mibu mibu 252M nov  3 18:24 \u001b[00;32massembly_summary_genbank.txt\u001b[0m\n",
      "-rw-r--r-- 1 mibu mibu  61M nov  3 18:25 \u001b[00;32massembly_summary_refseq.txt\u001b[0m\n",
      "-rw-r--r-- 1 mibu mibu  160 nov  3 20:59 paths_ref-genomes.list\n",
      "-rw-r--r-- 1 mibu mibu 1,8M nov  3 21:00 \u001b[01;31mGCA_002201495.1_ASM220149v1_genomic.gbff.gz\u001b[0m\n",
      "-rw-r--r-- 1 mibu mibu  240 nov  3 21:06 files_ref-genomes.list\n",
      "-rw-r--r-- 1 mibu mibu  160 nov  3 21:26 dirs_ref-genomes.list\n",
      "-rw-r--r-- 1 mibu mibu  24K nov  4 08:07 down_gnomes_ncbi-ftp.ipynb\n",
      "-rw-r--r-- 1 mibu mibu 4,0K nov  4 08:21 Untitled.ipynb\n",
      "-rw-r--r-- 1 mibu mibu  348 nov  4 08:22 \u001b[00;32massembly_acc_refseq.txt\u001b[0m\n",
      "-rw-r--r-- 1 mibu mibu  343 nov  4 08:23 \u001b[00;32massembly_acc_genb.txt\u001b[0m\n",
      "(py38) "
     ]
    },
    {
     "ename": "",
     "evalue": "1",
     "output_type": "error",
     "traceback": []
    }
   ],
   "source": [
    "ls -ltrh"
   ]
  },
  {
   "cell_type": "code",
   "execution_count": 128,
   "metadata": {
    "collapsed": true,
    "jupyter": {
     "outputs_hidden": true
    }
   },
   "outputs": [
    {
     "name": "stdout",
     "output_type": "stream",
     "text": [
      "SAMN00138213\n",
      "SAMN04621615\n",
      "SAMN07978491\n",
      "SAMN07980909\n",
      "SAMN07980958\n",
      "SAMN07980963\n",
      "SAMN08329147\n",
      "SAMN08329199\n",
      "SAMN08334970\n",
      "SAMN08334973\n",
      "SAMN08334978\n",
      "SAMN08334979\n",
      "SAMN08334983\n",
      "SAMN08334976\n",
      "SAMN08334977\n",
      "SAMN08328879\n",
      "SAMN08329008\n",
      "SAMN08334972\n",
      "SAMN08334975\n",
      "SAMN08334981\n",
      "SAMN08334982\n",
      "SAMN10186677\n",
      "SAMN10963682\n",
      "SAMN12556229\n",
      "SAMD00192834\n",
      "SAMN13925612\n",
      "SAMN15393864\n",
      "SAMEA4378782\n",
      "SAMEA5851959\n",
      "(py38) SAMN00138213\n",
      "SAMN04621615\n",
      "SAMN07978491\n",
      "SAMN07980909\n",
      "SAMN07980958\n",
      "SAMN07980963\n",
      "SAMN08329147\n",
      "SAMN08329199\n",
      "SAMN08334970\n",
      "SAMN08334973\n",
      "SAMN08334978\n",
      "SAMN08334979\n",
      "SAMN08334983\n",
      "SAMN08334976\n",
      "SAMN08334977\n",
      "SAMN08328879\n",
      "SAMN08329008\n",
      "SAMN08334972\n",
      "SAMN08334975\n",
      "SAMN08334981\n",
      "SAMN08334982\n",
      "SAMN10186677\n",
      "SAMN10963682\n",
      "SAMN12556229\n",
      "SAMD00192834\n",
      "SAMN13925612\n",
      "SAMN15393864\n",
      "SAMEA4378782\n",
      "SAMEA5851959\n",
      "(py38) "
     ]
    },
    {
     "ename": "",
     "evalue": "1",
     "output_type": "error",
     "traceback": []
    }
   ],
   "source": [
    "cat assembly_sam_gen.txt\n",
    "cat assembly_sam_refseq.txt"
   ]
  },
  {
   "cell_type": "code",
   "execution_count": null,
   "metadata": {},
   "outputs": [],
   "source": []
  }
 ],
 "metadata": {
  "kernelspec": {
   "display_name": "Bash",
   "language": "bash",
   "name": "bash"
  },
  "language_info": {
   "codemirror_mode": "shell",
   "file_extension": ".sh",
   "mimetype": "text/x-sh",
   "name": "bash"
  }
 },
 "nbformat": 4,
 "nbformat_minor": 4
}
