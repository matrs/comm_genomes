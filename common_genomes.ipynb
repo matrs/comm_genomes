{
 "cells": [
  {
   "cell_type": "code",
   "execution_count": 23,
   "metadata": {},
   "outputs": [
    {
     "name": "stdout",
     "output_type": "stream",
     "text": [
      "total 316M\n",
      "-r--r--r-- 1 mibu mibu 876K oct 28  2016 \u001b[0m\u001b[01;31mGCA_900097105.1_WK001_genomic.fna.gz\u001b[0m\n",
      "-r--r--r-- 1 mibu mibu 786K jul 20  2017 \u001b[01;31mGCA_002201495.1_ASM220149v1_genomic.fna.gz\u001b[0m\n",
      "-rw-r--r-- 1 mibu mibu 252M nov  3 18:24 \u001b[00;32massembly_summary_genbank.txt\u001b[0m\n",
      "-rw-r--r-- 1 mibu mibu  61M nov  3 18:25 \u001b[00;32massembly_summary_refseq.txt\u001b[0m\n",
      "-rw-r--r-- 1 mibu mibu  160 nov  3 20:59 paths_ref-genomes.list\n",
      "-rw-r--r-- 1 mibu mibu 1,8M nov  3 21:00 \u001b[01;31mGCA_002201495.1_ASM220149v1_genomic.gbff.gz\u001b[0m\n",
      "-rw-r--r-- 1 mibu mibu  240 nov  3 21:06 files_ref-genomes.list\n",
      "-rw-r--r-- 1 mibu mibu  160 nov  3 21:26 dirs_ref-genomes.list\n",
      "-rw-r--r-- 1 mibu mibu  343 nov  4 08:23 \u001b[00;32massembly_acc_genb.txt\u001b[0m\n",
      "-rw-r--r-- 1 mibu mibu 5,0K nov  4 08:23 Untitled.ipynb\n",
      "-rw-r--r-- 1 mibu mibu  464 nov  4 08:24 \u001b[00;32massembly_acc_refseq.txt\u001b[0m\n",
      "-rw-r--r-- 1 mibu mibu  464 nov  4 08:24 \u001b[00;32massembly_acc_gen.txt\u001b[0m\n",
      "-rw-r--r-- 1 mibu mibu  28K nov  4 08:25 down_gnomes_ncbi-ftp.ipynb\n",
      "-rw-r--r-- 1 mibu mibu  377 nov  4 08:25 \u001b[00;32massembly_sam_refseq.txt\u001b[0m\n",
      "-rw-r--r-- 1 mibu mibu  377 nov  4 08:25 \u001b[00;32massembly_sam_gen.txt\u001b[0m\n"
     ]
    }
   ],
   "source": [
    "ls -ltrh"
   ]
  },
  {
   "cell_type": "code",
   "execution_count": 25,
   "metadata": {},
   "outputs": [
    {
     "name": "stdout",
     "output_type": "stream",
     "text": [
      "29 29\n",
      "29 29\n"
     ]
    }
   ],
   "source": [
    "with open('assembly_sam_gen.txt','r') as fh_gb, open('assembly_sam_refseq.txt','r') as fh_rf:\n",
    "#     gb_samps = []\n",
    "#     ref_samps = []\n",
    "    gb_samps = [sam.strip() for sam in fh_gb ]\n",
    "    ref_samps = [sam.strip() for sam in fh_rf ]\n",
    "print(len(gb_samps), len(ref_samps))\n"
   ]
  },
  {
   "cell_type": "code",
   "execution_count": 27,
   "metadata": {},
   "outputs": [
    {
     "name": "stdout",
     "output_type": "stream",
     "text": [
      "{'SAMN08334975', 'SAMN15393864', 'SAMN07978491', 'SAMN08334979', 'SAMN08334972', 'SAMN07980958', 'SAMN08329199', 'SAMN04621615', 'SAMD00192834', 'SAMN08334976', 'SAMN00138213', 'SAMN12556229', 'SAMN10186677', 'SAMN08329147', 'SAMN07980963', 'SAMN08329008', 'SAMN08334970', 'SAMN08334983', 'SAMN08328879', 'SAMN08334978', 'SAMN13925612', 'SAMN08334977', 'SAMEA4378782', 'SAMN08334981', 'SAMN07980909', 'SAMN08334973', 'SAMN10963682', 'SAMEA5851959', 'SAMN08334982'} 29\n"
     ]
    }
   ],
   "source": [
    "comm_samples = set(gb_samps).intersection(set(ref_samps))\n",
    "print(comm_samples, len(comm_samples))"
   ]
  }
 ],
 "metadata": {
  "kernelspec": {
   "display_name": "Python 3",
   "language": "python",
   "name": "python3"
  },
  "language_info": {
   "codemirror_mode": {
    "name": "ipython",
    "version": 3
   },
   "file_extension": ".py",
   "mimetype": "text/x-python",
   "name": "python",
   "nbconvert_exporter": "python",
   "pygments_lexer": "ipython3",
   "version": "3.8.3"
  }
 },
 "nbformat": 4,
 "nbformat_minor": 4
}
